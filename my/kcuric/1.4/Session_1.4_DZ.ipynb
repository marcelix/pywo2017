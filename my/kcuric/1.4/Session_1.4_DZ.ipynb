{
 "cells": [
  {
   "cell_type": "markdown",
   "metadata": {},
   "source": [
    "<h1> DZ: Session 1.4 (kcuric) </h1>"
   ]
  },
  {
   "cell_type": "markdown",
   "metadata": {},
   "source": [
    "<h2> Zadatak 1.4.1. </h2>"
   ]
  },
  {
   "cell_type": "code",
   "execution_count": 75,
   "metadata": {},
   "outputs": [
    {
     "name": "stdout",
     "output_type": "stream",
     "text": [
      "2\n",
      "PASS\n",
      "['FAIL', 'PASS', 'FAIL', 'PASS', 'PASS']\n"
     ]
    }
   ],
   "source": [
    "def make_grading_function(scale=(50,61,76,91), grades=(1,2,3,4,5)):\n",
    "    \n",
    "    if len(scale) + 1 == len(grades):\n",
    "    \n",
    "        def gf(bodovi):\n",
    "            i = -1\n",
    "            for s in scale:\n",
    "                i += 1\n",
    "                if bodovi < s:\n",
    "                    return grades[i]\n",
    "            return grades[-1]\n",
    "        \n",
    "        \n",
    "    \n",
    "        def gf2(bodovi):\n",
    "                if bodovi < 50:\n",
    "                    return \"FAIL\"\n",
    "                else:\n",
    "                    return \"PASS\"\n",
    "        \n",
    "        return gf, gf2\n",
    "    \n",
    "    else:\n",
    "        print(\"Error!\")\n",
    "        \n",
    "\n",
    "gf = make_grading_function()[0]\n",
    "gf2 = make_grading_function()[1]\n",
    "\n",
    "print(gf(50))\n",
    "print(gf2(50))\n",
    "\n",
    "print([gf2(bodovi) for bodovi in (10, 62, 21, 83, 100)])"
   ]
  },
  {
   "cell_type": "markdown",
   "metadata": {},
   "source": [
    "<h2> Zadatak 1.4.2. </h2>\n"
   ]
  },
  {
   "cell_type": "code",
   "execution_count": 84,
   "metadata": {},
   "outputs": [
    {
     "name": "stderr",
     "output_type": "stream",
     "text": [
      "usage: ipykernel_launcher.py [-h] [--type TYPE] [--condensed CONDENSED]\n",
      "ipykernel_launcher.py: error: unrecognized arguments: -f /run/user/1000/jupyter/kernel-4dba1ff3-f706-4f1f-ae56-3b236b1f155b.json\n"
     ]
    },
    {
     "ename": "SystemExit",
     "evalue": "2",
     "output_type": "error",
     "traceback": [
      "An exception has occurred, use %tb to see the full traceback.\n",
      "\u001b[0;31mSystemExit\u001b[0m\u001b[0;31m:\u001b[0m 2\n"
     ]
    },
    {
     "name": "stderr",
     "output_type": "stream",
     "text": [
      "/usr/local/lib/python3.5/dist-packages/IPython/core/interactiveshell.py:2870: UserWarning: To exit: use 'exit', 'quit', or Ctrl-D.\n",
      "  warn(\"To exit: use 'exit', 'quit', or Ctrl-D.\", stacklevel=1)\n"
     ]
    }
   ],
   "source": [
    "import argparse\n",
    "from tabulate import tabulate\n",
    "\n",
    "parser = argparse.ArgumentParser()\n",
    "parser.add_argument(\"--type\",help=\"type of formating\")\n",
    "parser.add_argument(\"--condensed\",help=\"condensed data\")\n",
    "\n",
    "\n",
    "args = parser.parse_args()\n",
    "\n",
    "\n",
    "ime = input(\"Ime datoteke: \")\n",
    "tipDelimitera = input(\"Koristeni delimiter?: \")\n",
    "dat = open(ime,\"r\")\n",
    "sadrzaj = []\n",
    "\n",
    "for red in dat:\n",
    "    red = red.rstrip()\n",
    "    red = red.split(tipDelimitera) \n",
    "    sadrzaj.append(red)\n",
    "\n",
    "if args.type == \"fancy\" and args.condensed == \"s\":\n",
    "\trows = int(input(\"Koliko redova?: \"))\n",
    "\tprint(tabulate(sadrzaj[:rows],tablefmt = \"fancy_grid\"))\n",
    "elif args.type == \"fancy\":\n",
    "\tprint(tabulate(sadrzaj,tablefmt = \"fancy_grid\"))\n",
    "elif args.condensed == \"s\":\n",
    "\trows = int(input(\"Koliko redova?: \"))\n",
    "\tprint(tabulate(sadrzaj[:rows]))\n",
    "else:\n",
    "\tprint(tabulate(sadrzaj))"
   ]
  }
 ],
 "metadata": {
  "kernelspec": {
   "display_name": "Python 3",
   "language": "python",
   "name": "python3"
  },
  "language_info": {
   "codemirror_mode": {
    "name": "ipython",
    "version": 3
   },
   "file_extension": ".py",
   "mimetype": "text/x-python",
   "name": "python",
   "nbconvert_exporter": "python",
   "pygments_lexer": "ipython3",
   "version": "3.5.2"
  }
 },
 "nbformat": 4,
 "nbformat_minor": 2
}
