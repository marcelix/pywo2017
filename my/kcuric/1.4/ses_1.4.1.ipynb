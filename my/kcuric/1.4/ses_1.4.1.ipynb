{
 "cells": [
  {
   "cell_type": "code",
   "execution_count": 5,
   "metadata": {},
   "outputs": [
    {
     "name": "stdout",
     "output_type": "stream",
     "text": [
      "args: ()\n",
      "kwargs {}\n"
     ]
    }
   ],
   "source": [
    "def f(a, b, c=0, *args, **kwargs):\n",
    "    print(\"args:\", args)\n",
    "    print(\"kwargs\",kwargs)\n",
    "\n",
    "f(1,2,3)\n"
   ]
  },
  {
   "cell_type": "code",
   "execution_count": 7,
   "metadata": {},
   "outputs": [],
   "source": [
    "def f(a,*,b): #* forsira razdiobu pozicijskih i imenovanih\n",
    "    pass\n",
    "\n",
    "f(1,b = 3)"
   ]
  },
  {
   "cell_type": "code",
   "execution_count": 37,
   "metadata": {},
   "outputs": [
    {
     "data": {
      "text/plain": [
       "([1],)"
      ]
     },
     "execution_count": 37,
     "metadata": {},
     "output_type": "execute_result"
    }
   ],
   "source": [
    "def f(a,b=[]): ##c ima default a to je prazna lista (za default ne stavljaj promjenjivu strukturu)\n",
    "    b.append(a)\n",
    "    return b\n",
    "\n",
    "f(1)\n",
    "\n",
    "f.__defaults__"
   ]
  },
  {
   "cell_type": "markdown",
   "metadata": {},
   "source": [
    "# Closure\n",
    "lexical closure, function closure"
   ]
  },
  {
   "cell_type": "code",
   "execution_count": 39,
   "metadata": {},
   "outputs": [
    {
     "data": {
      "text/plain": [
       "3"
      ]
     },
     "execution_count": 39,
     "metadata": {},
     "output_type": "execute_result"
    }
   ],
   "source": [
    "def f(x):\n",
    "    \n",
    "    def g(y):\n",
    "        return x + y # x je iz vanjskog dosega (scope)\n",
    "    \n",
    "    return g\n",
    "\n",
    "retfunc = f(1)\n",
    "retfunc(2)"
   ]
  },
  {
   "cell_type": "code",
   "execution_count": 42,
   "metadata": {},
   "outputs": [
    {
     "data": {
      "text/plain": [
       "(<cell at 0x7f6690650888: int object at 0xa68a40>,)"
      ]
     },
     "execution_count": 42,
     "metadata": {},
     "output_type": "execute_result"
    }
   ],
   "source": [
    "retfunc.__closure__"
   ]
  },
  {
   "cell_type": "code",
   "execution_count": 43,
   "metadata": {
    "collapsed": true
   },
   "outputs": [],
   "source": [
    "f.__closure__"
   ]
  },
  {
   "cell_type": "markdown",
   "metadata": {},
   "source": [
    "# zad 1.4.1."
   ]
  },
  {
   "cell_type": "code",
   "execution_count": 70,
   "metadata": {},
   "outputs": [
    {
     "data": {
      "text/plain": [
       "'fail'"
      ]
     },
     "execution_count": 70,
     "metadata": {},
     "output_type": "execute_result"
    }
   ],
   "source": [
    "def make_grading_function(scale, grades):\n",
    "    \n",
    "    assert len(scale) + 1 == len(grades)\n",
    "    \n",
    "    def gf(x):\n",
    "        for s, g in zip(scale, grades):\n",
    "            if x < s:\n",
    "                return g\n",
    "            \n",
    "        else: #odnosi se na for petlju\n",
    "            return grades [-1]\n",
    "        \n",
    "    return gf\n",
    "\n",
    "\n",
    "fja = make_grading_function((50,),grades=(\"fail\",\"pass\"))\n",
    "fja(49)"
   ]
  },
  {
   "cell_type": "code",
   "execution_count": 79,
   "metadata": {},
   "outputs": [
    {
     "data": {
      "text/plain": [
       "'test.csv'"
      ]
     },
     "execution_count": 79,
     "metadata": {},
     "output_type": "execute_result"
    }
   ],
   "source": [
    "import argparse\n",
    "\n",
    "\n",
    "parser = argparse.ArgumentParser()\n",
    "parser.add_argument('--input', help='input datoteka')\n",
    "args = parser.parse_args([\"--input\",\"test.csv\"])\n",
    "args.input"
   ]
  },
  {
   "cell_type": "code",
   "execution_count": 77,
   "metadata": {},
   "outputs": [
    {
     "name": "stdout",
     "output_type": "stream",
     "text": [
      "Ime datoteke: test.csv\n",
      "╒═════╤════════╤═══╕\n",
      "│ 123 │ jabuka │ 5 │\n",
      "├─────┼────────┼───┤\n",
      "│ 456 │ kruska │ 6 │\n",
      "╘═════╧════════╧═══╛\n"
     ]
    }
   ],
   "source": [
    "from tabulate import tabulate\n",
    "\n",
    "ime = input(\"Ime datoteke: \")\n",
    "dat = open(ime, \"r\")\n",
    "sadr = []\n",
    "\n",
    "for red in dat:\n",
    "    red = red.rstrip()\n",
    "    red = red.split(\";\")\n",
    "    sadr.append(red)\n",
    "\n",
    "print(tabulate(sadr,tablefmt=\"fancy_grid\"))\n"
   ]
  },
  {
   "cell_type": "code",
   "execution_count": 80,
   "metadata": {},
   "outputs": [
    {
     "name": "stdout",
     "output_type": "stream",
     "text": [
      "Writing tabeliraj.py\n"
     ]
    }
   ],
   "source": [
    "%%writefile tabeliraj.py\n",
    "\n",
    "import sys\n",
    "print(sys.argv)"
   ]
  },
  {
   "cell_type": "code",
   "execution_count": 82,
   "metadata": {},
   "outputs": [
    {
     "name": "stdout",
     "output_type": "stream",
     "text": [
      "['tabeliraj.py', '--input', 'data.csv']\r\n"
     ]
    }
   ],
   "source": [
    "!python tabeliraj.py --input data.csv"
   ]
  }
 ],
 "metadata": {
  "kernelspec": {
   "display_name": "Python 3",
   "language": "python",
   "name": "python3"
  },
  "language_info": {
   "codemirror_mode": {
    "name": "ipython",
    "version": 3
   },
   "file_extension": ".py",
   "mimetype": "text/x-python",
   "name": "python",
   "nbconvert_exporter": "python",
   "pygments_lexer": "ipython3",
   "version": "3.5.2"
  }
 },
 "nbformat": 4,
 "nbformat_minor": 2
}
