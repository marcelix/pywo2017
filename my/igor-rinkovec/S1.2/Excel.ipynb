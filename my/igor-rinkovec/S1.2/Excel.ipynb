{
 "cells": [
  {
   "cell_type": "code",
   "execution_count": 1,
   "metadata": {
    "collapsed": true
   },
   "outputs": [],
   "source": [
    "data = [[1,2,3,4,5],[6,7,8,9,10],[11,12,13,14,15],[16,17,18,19,20],[21,22,23,24,25]]"
   ]
  },
  {
   "cell_type": "code",
   "execution_count": 3,
   "metadata": {
    "collapsed": true
   },
   "outputs": [],
   "source": [
    "import xlwt"
   ]
  },
  {
   "cell_type": "code",
   "execution_count": 11,
   "metadata": {},
   "outputs": [],
   "source": [
    "book = xlwt.Workbook()\n",
    "sheet = book.add_sheet(\"Tablica\")\n",
    "for row, v in enumerate(data):\n",
    "    for col, x in enumerate(v):\n",
    "        sheet.write(row,col,x)\n",
    "book.save(\"tablica.xlsx\")"
   ]
  },
  {
   "cell_type": "code",
   "execution_count": 32,
   "metadata": {},
   "outputs": [
    {
     "name": "stdout",
     "output_type": "stream",
     "text": [
      "Tablica 5x5\n"
     ]
    },
    {
     "data": {
      "text/html": [
       "<table><tr><td>1.0</td><td>2.0</td><td>3.0</td><td>4.0</td><td>5.0</td></tr><tr><td>6.0</td><td>7.0</td><td>8.0</td><td>9.0</td><td>10.0</td></tr><tr><td>11.0</td><td>12.0</td><td>13.0</td><td>14.0</td><td>15.0</td></tr><tr><td>16.0</td><td>17.0</td><td>18.0</td><td>19.0</td><td>20.0</td></tr><tr><td>21.0</td><td>22.0</td><td>23.0</td><td>24.0</td><td>25.0</td></tr></table>"
      ],
      "text/plain": [
       "<IPython.core.display.HTML object>"
      ]
     },
     "metadata": {},
     "output_type": "display_data"
    }
   ],
   "source": [
    "from IPython.core.display import HTML,display\n",
    "import xlrd\n",
    "book = xlrd.open_workbook(\"tablica.xlsx\")\n",
    "sheet = book.sheet_by_index(0)\n",
    "print(\"{0} {1}x{2}\".format(sheet.name, sheet.nrows, sheet.ncols))\n",
    "content = \"<table>\"\n",
    "for rx in range(sheet.nrows):\n",
    "    content += \"<tr>\"\n",
    "    for val in sheet.row(rx):\n",
    "        content += \"<td>\"\n",
    "        content += str(val.value)\n",
    "        content += \"</td>\"\n",
    "    content += \"</tr>\"\n",
    "content += \"</table>\"\n",
    "display(HTML(content))"
   ]
  },
  {
   "cell_type": "code",
   "execution_count": 34,
   "metadata": {},
   "outputs": [
    {
     "data": {
      "text/html": [
       "<div>\n",
       "<style>\n",
       "    .dataframe thead tr:only-child th {\n",
       "        text-align: right;\n",
       "    }\n",
       "\n",
       "    .dataframe thead th {\n",
       "        text-align: left;\n",
       "    }\n",
       "\n",
       "    .dataframe tbody tr th {\n",
       "        vertical-align: top;\n",
       "    }\n",
       "</style>\n",
       "<table border=\"1\" class=\"dataframe\">\n",
       "  <thead>\n",
       "    <tr style=\"text-align: right;\">\n",
       "      <th></th>\n",
       "      <th>1</th>\n",
       "      <th>2</th>\n",
       "      <th>3</th>\n",
       "      <th>4</th>\n",
       "      <th>5</th>\n",
       "    </tr>\n",
       "  </thead>\n",
       "  <tbody>\n",
       "    <tr>\n",
       "      <th>0</th>\n",
       "      <td>6</td>\n",
       "      <td>7</td>\n",
       "      <td>8</td>\n",
       "      <td>9</td>\n",
       "      <td>10</td>\n",
       "    </tr>\n",
       "    <tr>\n",
       "      <th>1</th>\n",
       "      <td>11</td>\n",
       "      <td>12</td>\n",
       "      <td>13</td>\n",
       "      <td>14</td>\n",
       "      <td>15</td>\n",
       "    </tr>\n",
       "    <tr>\n",
       "      <th>2</th>\n",
       "      <td>16</td>\n",
       "      <td>17</td>\n",
       "      <td>18</td>\n",
       "      <td>19</td>\n",
       "      <td>20</td>\n",
       "    </tr>\n",
       "    <tr>\n",
       "      <th>3</th>\n",
       "      <td>21</td>\n",
       "      <td>22</td>\n",
       "      <td>23</td>\n",
       "      <td>24</td>\n",
       "      <td>25</td>\n",
       "    </tr>\n",
       "  </tbody>\n",
       "</table>\n",
       "</div>"
      ],
      "text/plain": [
       "    1   2   3   4   5\n",
       "0   6   7   8   9  10\n",
       "1  11  12  13  14  15\n",
       "2  16  17  18  19  20\n",
       "3  21  22  23  24  25"
      ]
     },
     "execution_count": 34,
     "metadata": {},
     "output_type": "execute_result"
    }
   ],
   "source": [
    "import pandas as pd\n",
    "df = pd.read_excel(\"tablica.xlsx\")\n",
    "df"
   ]
  },
  {
   "cell_type": "code",
   "execution_count": 44,
   "metadata": {},
   "outputs": [
    {
     "name": "stdout",
     "output_type": "stream",
     "text": [
      "Tablica 5x5\n",
      "--  --  --  --  --\n",
      " 1   2   3   4   5\n",
      " 6   7   8   9  10\n",
      "11  12  13  14  15\n",
      "16  17  18  19  20\n",
      "21  22  23  24  25\n",
      "--  --  --  --  --\n"
     ]
    }
   ],
   "source": [
    "from tabulate import tabulate \n",
    "import xlrd\n",
    "book = xlrd.open_workbook(\"tablica.xlsx\")\n",
    "sheet = book.sheet_by_index(0)\n",
    "print(\"{0} {1}x{2}\".format(sheet.name, sheet.nrows, sheet.ncols))\n",
    "content = []\n",
    "for rx in range(sheet.nrows):\n",
    "    inner = []\n",
    "    for val in sheet.row(rx):\n",
    "        inner.append(val.value)\n",
    "    content.append(inner)\n",
    "print(tabulate(content))"
   ]
  },
  {
   "cell_type": "code",
   "execution_count": null,
   "metadata": {
    "collapsed": true
   },
   "outputs": [],
   "source": []
  }
 ],
 "metadata": {
  "kernelspec": {
   "display_name": "Python 3",
   "language": "python",
   "name": "python3"
  },
  "language_info": {
   "codemirror_mode": {
    "name": "ipython",
    "version": 3
   },
   "file_extension": ".py",
   "mimetype": "text/x-python",
   "name": "python",
   "nbconvert_exporter": "python",
   "pygments_lexer": "ipython3",
   "version": "3.6.1"
  }
 },
 "nbformat": 4,
 "nbformat_minor": 2
}
