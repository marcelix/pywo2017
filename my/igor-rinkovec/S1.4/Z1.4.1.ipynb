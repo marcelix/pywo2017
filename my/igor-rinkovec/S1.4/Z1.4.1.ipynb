{
 "cells": [
  {
   "cell_type": "markdown",
   "metadata": {},
   "source": [
    "# Zadatak 1.4.1"
   ]
  },
  {
   "cell_type": "code",
   "execution_count": 32,
   "metadata": {},
   "outputs": [
    {
     "data": {
      "text/plain": [
       "2"
      ]
     },
     "execution_count": 32,
     "metadata": {},
     "output_type": "execute_result"
    }
   ],
   "source": [
    "def makeGradingFunction(scale=(50,61,76,91), grades=(1,2,3,4,5)):\n",
    "    def a(points):\n",
    "        for pos, bound in enumerate(scale):\n",
    "            if points < bound:\n",
    "                return grades[pos]\n",
    "        return grades[-1]\n",
    "    return a \n",
    "        \n",
    "grading = makeGradingFunction()\n",
    "grading(60)"
   ]
  }
 ],
 "metadata": {
  "kernelspec": {
   "display_name": "Python 3",
   "language": "python",
   "name": "python3"
  },
  "language_info": {
   "codemirror_mode": {
    "name": "ipython",
    "version": 3
   },
   "file_extension": ".py",
   "mimetype": "text/x-python",
   "name": "python",
   "nbconvert_exporter": "python",
   "pygments_lexer": "ipython3",
   "version": "3.6.1"
  }
 },
 "nbformat": 4,
 "nbformat_minor": 2
}
