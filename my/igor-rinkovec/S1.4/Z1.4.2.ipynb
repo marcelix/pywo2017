{
 "cells": [
  {
   "cell_type": "markdown",
   "metadata": {},
   "source": [
    "# Zadatak 1.4.2"
   ]
  },
  {
   "cell_type": "code",
   "execution_count": 36,
   "metadata": {},
   "outputs": [
    {
     "name": "stdout",
     "output_type": "stream",
     "text": [
      "Namespace(condensed=True, fancy=True, filename='crime.csv')\n",
      "╒═════════════╤═════════════════════╤══════════╤══════╤══════╕\n",
      "│ cdatetime   │ address             │ district │ beat │ grid │\n",
      "├─────────────┼─────────────────────┼──────────┼──────┼──────┤\n",
      "│ 1/1/06 0:00 │ 3108 OCCIDENTAL DR  │ 3        │ 3C   │ 1115 │\n",
      "├─────────────┼─────────────────────┼──────────┼──────┼──────┤\n",
      "│ 1/1/06 0:00 │ 2082 EXPEDITION WAY │ 5        │ 5A   │ 1512 │\n",
      "├─────────────┼─────────────────────┼──────────┼──────┼──────┤\n",
      "│ 1/1/06 0:00 │ 4 PALEN CT          │ 2        │ 2A   │ 212  │\n",
      "├─────────────┼─────────────────────┼──────────┼──────┼──────┤\n",
      "│ 1/1/06 0:00 │ 22 BECKFORD CT      │ 6        │ 6C   │ 1443 │\n",
      "╘═════════════╧═════════════════════╧══════════╧══════╧══════╛\n"
     ]
    }
   ],
   "source": [
    "import argparse\n",
    "from tabulate import tabulate\n",
    "import csv\n",
    "\n",
    "parser = argparse.ArgumentParser()\n",
    "parser.add_argument('filename')\n",
    "parser.add_argument(\"-f\", \"--fancy\", help=\"makes the output nicely formatted\", action=\"store_true\", required=False)\n",
    "parser.add_argument(\"-c\", \"--condensed\", help=\"shows only a 5x5 subset of the data\", action=\"store_true\", required=False)\n",
    "args = parser.parse_args([\"crime.csv\",\"-f\", \"-c\"])\n",
    "\n",
    "contents = []\n",
    "with open(args.filename, 'r') as csvfile:\n",
    "    spamreader = csv.reader(csvfile, delimiter=',', quotechar='|')\n",
    "    for line in spamreader:\n",
    "        contents.append(line)\n",
    "        \n",
    "if args.condensed == True:\n",
    "    contents = contents [0:5]\n",
    "    for i, row in enumerate(contents):\n",
    "        contents[i] = row[0:5]\n",
    "        \n",
    "if args.fancy == True:\n",
    "    print(tabulate(contents, tablefmt=\"fancy_grid\"))\n",
    "else:\n",
    "    print(tabulate(contents))\n",
    "    \n",
    "    "
   ]
  },
  {
   "cell_type": "code",
   "execution_count": null,
   "metadata": {
    "collapsed": true
   },
   "outputs": [],
   "source": []
  }
 ],
 "metadata": {
  "kernelspec": {
   "display_name": "Python 3",
   "language": "python",
   "name": "python3"
  },
  "language_info": {
   "codemirror_mode": {
    "name": "ipython",
    "version": 3
   },
   "file_extension": ".py",
   "mimetype": "text/x-python",
   "name": "python",
   "nbconvert_exporter": "python",
   "pygments_lexer": "ipython3",
   "version": "3.6.1"
  }
 },
 "nbformat": 4,
 "nbformat_minor": 2
}
