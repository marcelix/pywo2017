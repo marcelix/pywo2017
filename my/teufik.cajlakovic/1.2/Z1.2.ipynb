{
 "cells": [
  {
   "cell_type": "markdown",
   "metadata": {},
   "source": [
    "# Zadatak 1.2.1"
   ]
  },
  {
   "cell_type": "code",
   "execution_count": 72,
   "metadata": {},
   "outputs": [
    {
     "name": "stdout",
     "output_type": "stream",
     "text": [
      "[[1, 3, 5, 4, 2, 1, 1, 5, 3, 2], [2, 5, 2, 3, 1, 2, 3, 2, 3, 2], [1, 3, 2, 5, 4, 1, 1, 3, 2, 2], [3, 2, 5, 3, 5, 5, 5, 4, 2, 2], [1, 4, 5, 3, 5, 2, 5, 2, 5, 5]]\n"
     ]
    }
   ],
   "source": [
    "from random import randint\n",
    "import xlwt\n",
    "import xlrd\n",
    "\n",
    "L1 = []\n",
    "L2 = []\n",
    "rows = 10\n",
    "columns = 5\n",
    "\n",
    "for mjesto_columns in range(columns):\n",
    "    L2 = []\n",
    "    L1.append(L2)\n",
    "    for mjesto_rows in range(rows):\n",
    "        gen = randint(1,5)\n",
    "        L2.append(gen)\n",
    "    \n",
    "print(L1)\n"
   ]
  },
  {
   "cell_type": "markdown",
   "metadata": {},
   "source": [
    "OSTATAK ZADATKA I DALJE NE ZNAM KAKO BIH *:(*"
   ]
  }
 ],
 "metadata": {
  "kernelspec": {
   "display_name": "Python 3",
   "language": "python",
   "name": "python3"
  },
  "language_info": {
   "codemirror_mode": {
    "name": "ipython",
    "version": 3
   },
   "file_extension": ".py",
   "mimetype": "text/x-python",
   "name": "python",
   "nbconvert_exporter": "python",
   "pygments_lexer": "ipython3",
   "version": "3.6.1"
  }
 },
 "nbformat": 4,
 "nbformat_minor": 2
}
