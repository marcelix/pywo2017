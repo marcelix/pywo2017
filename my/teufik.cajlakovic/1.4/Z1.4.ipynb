{
 "cells": [
  {
   "cell_type": "markdown",
   "metadata": {},
   "source": [
    "# Zadatak 1.4.1"
   ]
  },
  {
   "cell_type": "code",
   "execution_count": 28,
   "metadata": {},
   "outputs": [],
   "source": [
    "def make_grading_function(scale,grades):\n",
    "    \n",
    "    assert len(scale) + 1 == len(grades)\n",
    "    \n",
    "    def gf1(x):\n",
    "        for s,g in zip(scale,grades):\n",
    "            if x < s:\n",
    "                return g\n",
    "        else:\n",
    "            return grades[-1]\n",
    "        \n",
    "        for s,g in zip(scale,grades):\n",
    "            if x < s:\n",
    "                return g\n",
    "            elif x > s:\n",
    "                return g        \n",
    "        \n",
    "    return gf1"
   ]
  },
  {
   "cell_type": "code",
   "execution_count": 40,
   "metadata": {},
   "outputs": [
    {
     "name": "stdout",
     "output_type": "stream",
     "text": [
      "FAIL\n",
      "3\n",
      "6\n"
     ]
    }
   ],
   "source": [
    "v1 = make_grading_function(scale=(50,),grades=(\"FAIL\", \"PASS\"))\n",
    "print(v1(32))\n",
    "\n",
    "v2 = make_grading_function(scale=(50,61,75,90),grades=(1,2,3,4,5))\n",
    "print(v2(66))\n",
    "\n",
    "v3 = make_grading_function(scale=(50,60,70,80,90),grades=(1,2,3,4,5,6))\n",
    "print(v3(92))"
   ]
  },
  {
   "cell_type": "markdown",
   "metadata": {},
   "source": [
    "# Zadatak 1.4.2"
   ]
  },
  {
   "cell_type": "code",
   "execution_count": 73,
   "metadata": {},
   "outputs": [
    {
     "name": "stdout",
     "output_type": "stream",
     "text": [
      "Overwriting dat1272017.csv\n"
     ]
    }
   ],
   "source": [
    "%%writefile dat1272017.csv\n",
    "Osijek,Zagreb,Varazdin,Sisak,Karlovac,Pula,Split,Dubrovnik\n",
    "32,31,31,30,29,31,36,33"
   ]
  },
  {
   "cell_type": "code",
   "execution_count": 77,
   "metadata": {},
   "outputs": [
    {
     "name": "stdout",
     "output_type": "stream",
     "text": [
      "['Osijek', 'Zagreb', 'Varazdin', 'Sisak', 'Karlovac', 'Pula', 'Split', 'Dubrovnik']\n",
      "['32', '31', '31', '30', '29', '31', '36', '33']\n"
     ]
    },
    {
     "data": {
      "text/plain": [
       "[['Osijek',\n",
       "  'Zagreb',\n",
       "  'Varazdin',\n",
       "  'Sisak',\n",
       "  'Karlovac',\n",
       "  'Pula',\n",
       "  'Split',\n",
       "  'Dubrovnik'],\n",
       " ['32', '31', '31', '30', '29', '31', '36', '33']]"
      ]
     },
     "execution_count": 77,
     "metadata": {},
     "output_type": "execute_result"
    }
   ],
   "source": [
    "import csv\n",
    "\n",
    "L=[]\n",
    "\n",
    "with open(\"dat1272017.csv\", \"r\") as f:\n",
    "    readf = f.readlines() #Moramo koristiti readlines() umjesto read()\n",
    "    for red in readf:\n",
    "        red = red.strip()\n",
    "        red = red.split(\",\")\n",
    "        print(red)\n",
    "        L.append(red)\n",
    "        \n",
    "L\n",
    "    "
   ]
  },
  {
   "cell_type": "code",
   "execution_count": 75,
   "metadata": {},
   "outputs": [
    {
     "name": "stdout",
     "output_type": "stream",
     "text": [
      "╒════════╤════════╤══════════╤═══════╤══════════╤══════╤═══════╤═══════════╕\n",
      "│ Osijek │ Zagreb │ Varazdin │ Sisak │ Karlovac │ Pula │ Split │ Dubrovnik │\n",
      "├────────┼────────┼──────────┼───────┼──────────┼──────┼───────┼───────────┤\n",
      "│ 32     │ 31     │ 31       │ 30    │ 29       │ 31   │ 36    │ 33        │\n",
      "╘════════╧════════╧══════════╧═══════╧══════════╧══════╧═══════╧═══════════╛\n"
     ]
    }
   ],
   "source": [
    "from tabulate import tabulate\n",
    "print(tabulate(L,tablefmt=\"fancy_grid\"))"
   ]
  }
 ],
 "metadata": {
  "kernelspec": {
   "display_name": "Python 3",
   "language": "python",
   "name": "python3"
  },
  "language_info": {
   "codemirror_mode": {
    "name": "ipython",
    "version": 3
   },
   "file_extension": ".py",
   "mimetype": "text/x-python",
   "name": "python",
   "nbconvert_exporter": "python",
   "pygments_lexer": "ipython3",
   "version": "3.6.1"
  }
 },
 "nbformat": 4,
 "nbformat_minor": 2
}
