{
 "cells": [
  {
   "cell_type": "markdown",
   "metadata": {},
   "source": [
    "# Zadatak 1.3.1"
   ]
  },
  {
   "cell_type": "code",
   "execution_count": 11,
   "metadata": {},
   "outputs": [
    {
     "name": "stdout",
     "output_type": "stream",
     "text": [
      "Overwriting pointvektor.py\n"
     ]
    }
   ],
   "source": [
    "%%writefile pointvektor.py\n",
    "\n",
    "class Point:\n",
    "    \n",
    "    #class varijabla (static)\n",
    "    dim = 2\n",
    "    \n",
    "    #konsturktor\n",
    "    def __init__(self,x,y):\n",
    "        self.x = x\n",
    "        self.y = y\n",
    "        \n",
    "        self.__fol_private_method()\n",
    "        \n",
    "    def translate(self,vektor):\n",
    "        return Point(self.x + vektor.x, self.y + vektor.y)\n",
    "    \n",
    "    def __r_shift__(self,vektor):\n",
    "        return self.translate(vektor)\n",
    "    \n",
    "    def __fol_private_method(self):\n",
    "        pass\n",
    "    \n",
    "    @staticmethod\n",
    "    def static_method():\n",
    "        print(\"Poziva se staticka metoda.\")\n",
    "    \n",
    "    def __repr__(self):\n",
    "        return \"Point({0},{1})\".format(self.x,self.y)\n",
    "    \n",
    "    def __repr__(self):\n",
    "        return \"Vektor({0},{1})\".format(self.x, self.y)\n",
    "\n",
    "class Vektor(Point):\n",
    "    \n",
    "    def __add__(self,other):\n",
    "        x_ = self.x + other.x\n",
    "        y_ = self.y + other.y\n",
    "        return Vektor(x_,y_)\n",
    "    \n",
    "    def __mul__(self,other):\n",
    "        return self.x*other.x + self.y*other.y\n",
    "    \n",
    "    def __rmul__(self,skalar):\n",
    "        return Vektor(skalar*self.x, skalar*self.y)\n",
    "    \n",
    "    def __repr__(self):\n",
    "        return \"Vektor({0},{1})\".format(self.x,self.y)\n",
    "    \n",
    "    def _repr_html_(self):\n",
    "        return \"$ ({0}, {1}) $\".format(self.x,self.y)"
   ]
  },
  {
   "cell_type": "code",
   "execution_count": 12,
   "metadata": {
    "collapsed": true
   },
   "outputs": [],
   "source": [
    "import pointvektor"
   ]
  },
  {
   "cell_type": "code",
   "execution_count": 13,
   "metadata": {},
   "outputs": [
    {
     "data": {
      "text/plain": [
       "2"
      ]
     },
     "execution_count": 13,
     "metadata": {},
     "output_type": "execute_result"
    }
   ],
   "source": [
    "pointvektor.Point.dim"
   ]
  },
  {
   "cell_type": "code",
   "execution_count": 18,
   "metadata": {},
   "outputs": [
    {
     "data": {
      "text/plain": [
       "2"
      ]
     },
     "execution_count": 18,
     "metadata": {},
     "output_type": "execute_result"
    }
   ],
   "source": [
    "pointvektor.Vektor.dim"
   ]
  },
  {
   "cell_type": "code",
   "execution_count": 14,
   "metadata": {
    "collapsed": true
   },
   "outputs": [],
   "source": [
    "from pointvektor import *"
   ]
  },
  {
   "cell_type": "code",
   "execution_count": 16,
   "metadata": {
    "collapsed": true
   },
   "outputs": [],
   "source": [
    "u = Vektor(0,1)\n",
    "v = Vektor(1,0)\n",
    "P = Point(2,3)"
   ]
  },
  {
   "cell_type": "code",
   "execution_count": 15,
   "metadata": {},
   "outputs": [
    {
     "data": {
      "text/html": [
       "$(0, 1)$"
      ],
      "text/plain": [
       "Vektor(0,1)"
      ]
     },
     "execution_count": 15,
     "metadata": {},
     "output_type": "execute_result"
    }
   ],
   "source": [
    "u"
   ]
  },
  {
   "cell_type": "code",
   "execution_count": 17,
   "metadata": {},
   "outputs": [
    {
     "data": {
      "text/plain": [
       "Vektor(2,4)"
      ]
     },
     "execution_count": 17,
     "metadata": {},
     "output_type": "execute_result"
    }
   ],
   "source": [
    "P.translate(u)"
   ]
  },
  {
   "cell_type": "code",
   "execution_count": 19,
   "metadata": {},
   "outputs": [
    {
     "data": {
      "text/plain": [
       "0"
      ]
     },
     "execution_count": 19,
     "metadata": {},
     "output_type": "execute_result"
    }
   ],
   "source": [
    "u*v"
   ]
  },
  {
   "cell_type": "code",
   "execution_count": 20,
   "metadata": {},
   "outputs": [
    {
     "data": {
      "text/html": [
       "$(0, 2)$"
      ],
      "text/plain": [
       "Vektor(0,2)"
      ]
     },
     "execution_count": 20,
     "metadata": {},
     "output_type": "execute_result"
    }
   ],
   "source": [
    "2*u"
   ]
  }
 ],
 "metadata": {
  "kernelspec": {
   "display_name": "Python 3",
   "language": "python",
   "name": "python3"
  },
  "language_info": {
   "codemirror_mode": {
    "name": "ipython",
    "version": 3
   },
   "file_extension": ".py",
   "mimetype": "text/x-python",
   "name": "python",
   "nbconvert_exporter": "python",
   "pygments_lexer": "ipython3",
   "version": "3.6.1"
  }
 },
 "nbformat": 4,
 "nbformat_minor": 2
}
