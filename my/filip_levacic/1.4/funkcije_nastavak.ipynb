{
 "cells": [
  {
   "cell_type": "code",
   "execution_count": 57,
   "metadata": {
    "collapsed": true
   },
   "outputs": [],
   "source": [
    "def f(a, b, c = 0, *args, **kwargs):\n",
    "    pass\n",
    "#a i b su obavezni, ostali argumenti su opcionalni (prva podjela)\n",
    "\n",
    "f(1, 2, c = 3) #dobar nacin poziva jer je kod citkiji, 1 i 2 su pozicijski argumenti\n",
    "#a i b su neimenovani (pozicijski), c je imenovan argument (iako se i a i b mogu imenovati,\n",
    "#ali nakon jednog imenovanog moraju svi biti imenovani)\n",
    "\n",
    "f(1, 2, 3, 4) #c je 3, 4 ide u args\n",
    "#f(1, 2, c=3, 4) nejde, jer i 4 tada mora biti imenovan, a ako je imenovan tada ide u kwargs"
   ]
  },
  {
   "cell_type": "code",
   "execution_count": 58,
   "metadata": {
    "collapsed": true
   },
   "outputs": [],
   "source": [
    "def g(a, *, b): #* forsira razgranicenje izmedju named i pozicijskih argumenata\n",
    "    pass\n",
    "#g(1, 2) nejde, ali ide g(1, b=2) jer se sve nakon zvijezde treba imenovati"
   ]
  },
  {
   "cell_type": "code",
   "execution_count": 59,
   "metadata": {},
   "outputs": [
    {
     "data": {
      "text/plain": [
       "[1]"
      ]
     },
     "execution_count": 59,
     "metadata": {},
     "output_type": "execute_result"
    }
   ],
   "source": [
    "def h(a, b=[]):\n",
    "    b.append(a)\n",
    "    return b\n",
    "\n",
    "h(1)"
   ]
  },
  {
   "cell_type": "markdown",
   "metadata": {},
   "source": [
    "## Closure (lexical/function closure) (zatvarač)"
   ]
  },
  {
   "cell_type": "code",
   "execution_count": 60,
   "metadata": {
    "collapsed": true
   },
   "outputs": [],
   "source": [
    "def fu(x):\n",
    "    \n",
    "    def gu(y):\n",
    "        return x + y\n",
    "    \n",
    "    return gu\n",
    "#f je funkcija viseg reda jer barata sa funkcijama i vraca funkciju\n",
    "#closure jer se sve slobodne varijable zatvore u scope (ovdje je to x)"
   ]
  },
  {
   "cell_type": "code",
   "execution_count": 61,
   "metadata": {},
   "outputs": [
    {
     "data": {
      "text/plain": [
       "3"
      ]
     },
     "execution_count": 61,
     "metadata": {},
     "output_type": "execute_result"
    }
   ],
   "source": [
    "retfunc = fu(1)\n",
    "retfunc(2)"
   ]
  },
  {
   "cell_type": "code",
   "execution_count": 62,
   "metadata": {},
   "outputs": [
    {
     "data": {
      "text/plain": [
       "(<cell at 0x00000144244F17C8: int object at 0x000000005AFEE9D0>,)"
      ]
     },
     "execution_count": 62,
     "metadata": {},
     "output_type": "execute_result"
    }
   ],
   "source": [
    "retfunc.__closure__\n",
    "#postoji int (x)"
   ]
  },
  {
   "cell_type": "code",
   "execution_count": 63,
   "metadata": {
    "collapsed": true
   },
   "outputs": [],
   "source": [
    "fu.__closure__\n",
    "#nema nista"
   ]
  },
  {
   "cell_type": "markdown",
   "metadata": {},
   "source": [
    "## Zadatak prvi"
   ]
  },
  {
   "cell_type": "code",
   "execution_count": 64,
   "metadata": {},
   "outputs": [],
   "source": [
    "def make_grading_function(scale, grades):\n",
    "    \n",
    "        assert len(scale) + 1 == len(grades)\n",
    "        \n",
    "        def vratiOcjenu(bodovi):\n",
    "            for i in range(len(scale)):\n",
    "                if(bodovi < scale[i]):\n",
    "                    return grades[i]\n",
    "            return grades[-1]\n",
    "        \n",
    "        return vratiOcjenu"
   ]
  },
  {
   "cell_type": "code",
   "execution_count": 65,
   "metadata": {
    "collapsed": true
   },
   "outputs": [],
   "source": [
    "fff = make_grading_function(scale = (50, 61, 76, 91), grades = (1, 2, 3, 4, 5))"
   ]
  },
  {
   "cell_type": "code",
   "execution_count": 66,
   "metadata": {},
   "outputs": [
    {
     "data": {
      "text/plain": [
       "3"
      ]
     },
     "execution_count": 66,
     "metadata": {},
     "output_type": "execute_result"
    }
   ],
   "source": [
    "fff(62)"
   ]
  },
  {
   "cell_type": "code",
   "execution_count": 67,
   "metadata": {
    "collapsed": true
   },
   "outputs": [],
   "source": [
    "ffg = make_grading_function(scale = (50, ), grades = (\"FAIL\", \"PASS\"))"
   ]
  },
  {
   "cell_type": "code",
   "execution_count": 68,
   "metadata": {},
   "outputs": [
    {
     "data": {
      "text/plain": [
       "'FAIL'"
      ]
     },
     "execution_count": 68,
     "metadata": {},
     "output_type": "execute_result"
    }
   ],
   "source": [
    "ffg(45)"
   ]
  },
  {
   "cell_type": "code",
   "execution_count": 70,
   "metadata": {
    "collapsed": true
   },
   "outputs": [],
   "source": [
    "#moze se koristiti i zip, for i while petlje imaju else"
   ]
  },
  {
   "cell_type": "markdown",
   "metadata": {},
   "source": [
    "## Zadatak drugi"
   ]
  },
  {
   "cell_type": "code",
   "execution_count": 105,
   "metadata": {},
   "outputs": [],
   "source": [
    "import argparse\n",
    "from tabulate import tabulate"
   ]
  },
  {
   "cell_type": "code",
   "execution_count": 113,
   "metadata": {},
   "outputs": [],
   "source": [
    "def csvRW(datoteka):\n",
    "    with open(datoteka) as f:\n",
    "        content = f.readlines()\n",
    "    content = [i.strip() for i in content]\n",
    "    content = [i.split(\";\") for i in content]\n",
    "    content = [i[:-1] for i in content]\n",
    "    \n",
    "    return content"
   ]
  },
  {
   "cell_type": "code",
   "execution_count": 123,
   "metadata": {},
   "outputs": [
    {
     "name": "stdout",
     "output_type": "stream",
     "text": [
      "╒═══╤═══╤═══╤═══╕\n",
      "│ 1 │ 2 │ 3 │ 4 │\n",
      "├───┼───┼───┼───┤\n",
      "│ 2 │ 3 │ 4 │ 5 │\n",
      "├───┼───┼───┼───┤\n",
      "│ 3 │ 4 │ 5 │ 6 │\n",
      "╘═══╧═══╧═══╧═══╛\n"
     ]
    }
   ],
   "source": [
    "L = csvRW(\"data.txt\")\n",
    "print(tabulate(L, tablefmt=\"fancy_grid\"))"
   ]
  },
  {
   "cell_type": "code",
   "execution_count": 125,
   "metadata": {},
   "outputs": [
    {
     "data": {
      "text/plain": [
       "'data.txt'"
      ]
     },
     "execution_count": 125,
     "metadata": {},
     "output_type": "execute_result"
    }
   ],
   "source": [
    "parser = argparse.ArgumentParser()\n",
    "parser.add_argument(\"--input\", help=\"input datoteka\")\n",
    "args = parser.parse_args([\"--input\", \"data.txt\"])\n",
    "args.input"
   ]
  },
  {
   "cell_type": "code",
   "execution_count": 126,
   "metadata": {},
   "outputs": [
    {
     "data": {
      "text/plain": [
       "['C:\\\\Users\\\\levacic1995\\\\Anaconda3\\\\lib\\\\site-packages\\\\ipykernel_launcher.py',\n",
       " '-f',\n",
       " 'C:\\\\Users\\\\levacic1995\\\\AppData\\\\Roaming\\\\jupyter\\\\runtime\\\\kernel-a721b199-c158-41da-882d-3c0f08fbb59e.json']"
      ]
     },
     "execution_count": 126,
     "metadata": {},
     "output_type": "execute_result"
    }
   ],
   "source": [
    "import sys\n",
    "sys.argv"
   ]
  },
  {
   "cell_type": "code",
   "execution_count": 129,
   "metadata": {},
   "outputs": [
    {
     "name": "stdout",
     "output_type": "stream",
     "text": [
      "Writing tabeliraj.py\n"
     ]
    }
   ],
   "source": [
    "%%writefile tabeliraj.py\n",
    "#tabeliraj.py\n",
    "\n",
    "import sys\n",
    "\n",
    "print(sys.argv)"
   ]
  },
  {
   "cell_type": "code",
   "execution_count": null,
   "metadata": {
    "collapsed": true
   },
   "outputs": [],
   "source": []
  },
  {
   "cell_type": "code",
   "execution_count": null,
   "metadata": {
    "collapsed": true
   },
   "outputs": [],
   "source": []
  }
 ],
 "metadata": {
  "kernelspec": {
   "display_name": "Python 3",
   "language": "python",
   "name": "python3"
  },
  "language_info": {
   "codemirror_mode": {
    "name": "ipython",
    "version": 3
   },
   "file_extension": ".py",
   "mimetype": "text/x-python",
   "name": "python",
   "nbconvert_exporter": "python",
   "pygments_lexer": "ipython3",
   "version": "3.6.1"
  }
 },
 "nbformat": 4,
 "nbformat_minor": 2
}
