{
 "cells": [
  {
   "cell_type": "markdown",
   "metadata": {},
   "source": [
    "# Output"
   ]
  },
  {
   "cell_type": "code",
   "execution_count": 1,
   "metadata": {},
   "outputs": [
    {
     "data": {
      "text/plain": [
       "[[4, 10, 28, 16, 28],\n",
       " [0, 28, 7, 13, 2],\n",
       " [25, 16, 25, 24, 29],\n",
       " [19, 11, 11, 22, 17],\n",
       " [12, 10, 17, 3, 18]]"
      ]
     },
     "execution_count": 1,
     "metadata": {},
     "output_type": "execute_result"
    }
   ],
   "source": [
    "import random\n",
    "L1 = []\n",
    "for i in range (5):\n",
    "    Lp = []\n",
    "    for j in range(5):\n",
    "        broj = random.randrange(30)\n",
    "        Lp.append(broj)\n",
    "    L1.append(Lp)\n",
    "L1\n",
    "    "
   ]
  },
  {
   "cell_type": "code",
   "execution_count": 2,
   "metadata": {
    "collapsed": true
   },
   "outputs": [],
   "source": [
    "import xlwt\n",
    "\n",
    "book = xlwt.Workbook(encoding=\"utf-8\")\n",
    "sheet1 = book.add_sheet(\"Sheet 1\")\n",
    "red = 0\n",
    "for m in L1:\n",
    "    stupac = 0\n",
    "    for broj in m:\n",
    "        sheet1.write(red, stupac, broj)\n",
    "        stupac = stupac +1\n",
    "    red = red +1\n",
    "book.save(\"zad01.xls\")"
   ]
  },
  {
   "cell_type": "markdown",
   "metadata": {
    "collapsed": true
   },
   "source": [
    "# Input"
   ]
  },
  {
   "cell_type": "code",
   "execution_count": 14,
   "metadata": {},
   "outputs": [
    {
     "name": "stdout",
     "output_type": "stream",
     "text": [
      "[[4.0, 10.0, 28.0, 16.0, 28.0], [0.0, 28.0, 7.0, 13.0, 2.0], [25.0, 16.0, 25.0, 24.0, 29.0], [19.0, 11.0, 11.0, 22.0, 17.0], [12.0, 10.0, 17.0, 3.0, 18.0]]\n"
     ]
    }
   ],
   "source": [
    "import xlrd\n",
    "\n",
    "book = xlrd.open_workbook(\"C:\\\\Users\\\\Paula\\\\pywo\\\\my\\\\s02\\\\zad01.xls\")\n",
    "sheet = book.sheet_by_index(0)\n",
    "L = []\n",
    "for rx in range(sheet.nrows):\n",
    "    L.append(sheet.row_values(rx))\n",
    "print(L)\n",
    "    \n",
    "    "
   ]
  },
  {
   "cell_type": "code",
   "execution_count": null,
   "metadata": {
    "collapsed": true
   },
   "outputs": [],
   "source": []
  }
 ],
 "metadata": {
  "kernelspec": {
   "display_name": "Python 3",
   "language": "python",
   "name": "python3"
  },
  "language_info": {
   "codemirror_mode": {
    "name": "ipython",
    "version": 3
   },
   "file_extension": ".py",
   "mimetype": "text/x-python",
   "name": "python",
   "nbconvert_exporter": "python",
   "pygments_lexer": "ipython3",
   "version": "3.6.1"
  }
 },
 "nbformat": 4,
 "nbformat_minor": 2
}
