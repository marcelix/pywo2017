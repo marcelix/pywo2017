{
 "cells": [
  {
   "cell_type": "markdown",
   "metadata": {},
   "source": [
    "# Zadatak 02\n",
    "\n",
    "Pročitati jupyter nootebok (u .json), pronaći H1 ćelije i konvertirati njih u slideshow"
   ]
  },
  {
   "cell_type": "markdown",
   "metadata": {
    "collapsed": true
   },
   "source": [
    "## Učitavanje .ipynb"
   ]
  },
  {
   "cell_type": "code",
   "execution_count": 1,
   "metadata": {
    "collapsed": true
   },
   "outputs": [],
   "source": [
    "import json\n",
    "inputDat = \"ZaSlideShow.ipynb\"\n",
    "outputDat = \"ZaSlideShowOut.ipynb\"\n",
    "with open(inputDat, mode=\"r\") as f:\n",
    "    d = json.load(f)\n",
    "f.close()"
   ]
  },
  {
   "cell_type": "code",
   "execution_count": 2,
   "metadata": {
    "collapsed": true
   },
   "outputs": [
    {
     "name": "stdout",
     "output_type": "stream",
     "text": [
      "{'cells': [{'cell_type': 'markdown',\n",
      "            'metadata': {},\n",
      "            'source': ['# Probni notebook']},\n",
      "           {'cell_type': 'code',\n",
      "            'execution_count': 1,\n",
      "            'metadata': {'collapsed': True},\n",
      "            'outputs': [],\n",
      "            'source': ['def f():\\n',\n",
      "                       '    some_code_here = 2\\n',\n",
      "                       '    return some_code_here']},\n",
      "           {'cell_type': 'markdown',\n",
      "            'metadata': {},\n",
      "            'source': ['# Jos jedan heading']},\n",
      "           {'cell_type': 'code',\n",
      "            'execution_count': 2,\n",
      "            'metadata': {'collapsed': True},\n",
      "            'outputs': [],\n",
      "            'source': ['class jos_neka_klasa:\\n', '    pass']}],\n",
      " 'metadata': {'kernelspec': {'display_name': 'Python 3',\n",
      "                             'language': 'python',\n",
      "                             'name': 'python3'},\n",
      "              'language_info': {'codemirror_mode': {'name': 'ipython',\n",
      "                                                    'version': 3},\n",
      "                                'file_extension': '.py',\n",
      "                                'mimetype': 'text/x-python',\n",
      "                                'name': 'python',\n",
      "                                'nbconvert_exporter': 'python',\n",
      "                                'pygments_lexer': 'ipython3',\n",
      "                                'version': '3.6.1'}},\n",
      " 'nbformat': 4,\n",
      " 'nbformat_minor': 2}\n"
     ]
    }
   ],
   "source": [
    "from pprint import pprint\n",
    "pprint(d)"
   ]
  },
  {
   "cell_type": "markdown",
   "metadata": {},
   "source": [
    "## Odabir celija"
   ]
  },
  {
   "cell_type": "code",
   "execution_count": 4,
   "metadata": {
    "collapsed": true
   },
   "outputs": [],
   "source": [
    "for i in d['cells']:\n",
    "    if (i['cell_type'] == 'markdown'):\n",
    "        for x in i['source']:\n",
    "            meta = i['metadata']\n",
    "            if \"# \" in x:\n",
    "                if 'slideshow' in meta.keys():\n",
    "                    meta['slideshow']['slide_type'] = 'slide'\n",
    "                else:\n",
    "                    meta['slideshow'] = dict({'slide_type': 'slide'})\n",
    "    else:\n",
    "        meta = i['metadata']\n",
    "        if 'slideshow' in meta.keys():\n",
    "            meta['slideshow']['slide_type'] = 'skip'\n",
    "        else:\n",
    "            meta['slideshow'] = dict({'slide_type': 'skip'})"
   ]
  },
  {
   "cell_type": "code",
   "execution_count": 5,
   "metadata": {
    "collapsed": true
   },
   "outputs": [
    {
     "name": "stdout",
     "output_type": "stream",
     "text": [
      "{'cells': [{'cell_type': 'markdown',\n",
      "            'metadata': {'slideshow': {'slide_type': 'slide'}},\n",
      "            'source': ['# Probni notebook']},\n",
      "           {'cell_type': 'code',\n",
      "            'execution_count': 1,\n",
      "            'metadata': {'collapsed': True,\n",
      "                         'slideshow': {'slide_type': 'skip'}},\n",
      "            'outputs': [],\n",
      "            'source': ['def f():\\n',\n",
      "                       '    some_code_here = 2\\n',\n",
      "                       '    return some_code_here']},\n",
      "           {'cell_type': 'markdown',\n",
      "            'metadata': {'slideshow': {'slide_type': 'slide'}},\n",
      "            'source': ['# Jos jedan heading']},\n",
      "           {'cell_type': 'code',\n",
      "            'execution_count': 2,\n",
      "            'metadata': {'collapsed': True,\n",
      "                         'slideshow': {'slide_type': 'skip'}},\n",
      "            'outputs': [],\n",
      "            'source': ['class jos_neka_klasa:\\n', '    pass']}],\n",
      " 'metadata': {'kernelspec': {'display_name': 'Python 3',\n",
      "                             'language': 'python',\n",
      "                             'name': 'python3'},\n",
      "              'language_info': {'codemirror_mode': {'name': 'ipython',\n",
      "                                                    'version': 3},\n",
      "                                'file_extension': '.py',\n",
      "                                'mimetype': 'text/x-python',\n",
      "                                'name': 'python',\n",
      "                                'nbconvert_exporter': 'python',\n",
      "                                'pygments_lexer': 'ipython3',\n",
      "                                'version': '3.6.1'}},\n",
      " 'nbformat': 4,\n",
      " 'nbformat_minor': 2}\n"
     ]
    }
   ],
   "source": [
    "from pprint import pprint\n",
    "pprint(d)"
   ]
  },
  {
   "cell_type": "markdown",
   "metadata": {},
   "source": [
    "## Spremanje u .ipynb"
   ]
  },
  {
   "cell_type": "code",
   "execution_count": 6,
   "metadata": {
    "collapsed": true
   },
   "outputs": [],
   "source": [
    "with open(outputDat, mode='w') as f1:\n",
    "    json.dump(d, f1)\n",
    "f1.close()"
   ]
  },
  {
   "cell_type": "markdown",
   "metadata": {},
   "source": [
    "## Konverzija u slideshow"
   ]
  },
  {
   "cell_type": "code",
   "execution_count": null,
   "metadata": {
    "collapsed": true
   },
   "outputs": [],
   "source": [
    "!jupyter nbconvert \"ZaSlideShowOut.ipynb\" --to slides --post serve"
   ]
  }
 ],
 "metadata": {
  "kernelspec": {
   "display_name": "Python 3",
   "language": "python",
   "name": "python3"
  },
  "language_info": {
   "codemirror_mode": {
    "name": "ipython",
    "version": 3
   },
   "file_extension": ".py",
   "mimetype": "text/x-python",
   "name": "python",
   "nbconvert_exporter": "python",
   "pygments_lexer": "ipython3",
   "version": "3.6.1"
  }
 },
 "nbformat": 4,
 "nbformat_minor": 2
}
